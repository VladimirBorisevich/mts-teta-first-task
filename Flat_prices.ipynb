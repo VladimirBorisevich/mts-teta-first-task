{
 "cells": [
  {
   "cell_type": "code",
   "execution_count": 2,
   "metadata": {
    "id": "xyKga_9GCiCo"
   },
   "outputs": [],
   "source": [
    "import pandas as pd\n",
    "import matplotlib.pyplot as plt\n",
    "import numpy as np\n",
    "%matplotlib inline\n",
    "import seaborn as sns"
   ]
  },
  {
   "cell_type": "code",
   "execution_count": 3,
   "metadata": {
    "colab": {
     "base_uri": "https://localhost:8080/"
    },
    "id": "JzGB0UX2C7NY",
    "outputId": "5fae9d38-d06b-4982-e6d9-33f00220e7d1"
   },
   "outputs": [
    {
     "name": "stdout",
     "output_type": "stream",
     "text": [
      "Mounted at /content/drive\n"
     ]
    }
   ],
   "source": [
    "from google.colab import drive\n",
    "drive.mount('/content/drive')"
   ]
  },
  {
   "cell_type": "code",
   "execution_count": 232,
   "metadata": {
    "id": "-Nuy8iYZC-8A"
   },
   "outputs": [],
   "source": [
    "data = pd.read_csv('drive/MyDrive/all_v2.csv')"
   ]
  },
  {
   "cell_type": "code",
   "execution_count": 233,
   "metadata": {
    "colab": {
     "base_uri": "https://localhost:8080/",
     "height": 204
    },
    "id": "G1UViYptWed7",
    "outputId": "8bed8bb2-02f5-48b6-d3cd-b175d3d78118"
   },
   "outputs": [
    {
     "data": {
      "text/html": [
       "<div>\n",
       "<style scoped>\n",
       "    .dataframe tbody tr th:only-of-type {\n",
       "        vertical-align: middle;\n",
       "    }\n",
       "\n",
       "    .dataframe tbody tr th {\n",
       "        vertical-align: top;\n",
       "    }\n",
       "\n",
       "    .dataframe thead th {\n",
       "        text-align: right;\n",
       "    }\n",
       "</style>\n",
       "<table border=\"1\" class=\"dataframe\">\n",
       "  <thead>\n",
       "    <tr style=\"text-align: right;\">\n",
       "      <th></th>\n",
       "      <th>price</th>\n",
       "      <th>date</th>\n",
       "      <th>time</th>\n",
       "      <th>geo_lat</th>\n",
       "      <th>geo_lon</th>\n",
       "      <th>region</th>\n",
       "      <th>building_type</th>\n",
       "      <th>level</th>\n",
       "      <th>levels</th>\n",
       "      <th>rooms</th>\n",
       "      <th>area</th>\n",
       "      <th>kitchen_area</th>\n",
       "      <th>object_type</th>\n",
       "    </tr>\n",
       "  </thead>\n",
       "  <tbody>\n",
       "    <tr>\n",
       "      <th>0</th>\n",
       "      <td>6050000</td>\n",
       "      <td>2018-02-19</td>\n",
       "      <td>20:00:21</td>\n",
       "      <td>59.805808</td>\n",
       "      <td>30.376141</td>\n",
       "      <td>2661</td>\n",
       "      <td>1</td>\n",
       "      <td>8</td>\n",
       "      <td>10</td>\n",
       "      <td>3</td>\n",
       "      <td>82.6</td>\n",
       "      <td>10.8</td>\n",
       "      <td>1</td>\n",
       "    </tr>\n",
       "    <tr>\n",
       "      <th>1</th>\n",
       "      <td>8650000</td>\n",
       "      <td>2018-02-27</td>\n",
       "      <td>12:04:54</td>\n",
       "      <td>55.683807</td>\n",
       "      <td>37.297405</td>\n",
       "      <td>81</td>\n",
       "      <td>3</td>\n",
       "      <td>5</td>\n",
       "      <td>24</td>\n",
       "      <td>2</td>\n",
       "      <td>69.1</td>\n",
       "      <td>12.0</td>\n",
       "      <td>1</td>\n",
       "    </tr>\n",
       "    <tr>\n",
       "      <th>2</th>\n",
       "      <td>4000000</td>\n",
       "      <td>2018-02-28</td>\n",
       "      <td>15:44:00</td>\n",
       "      <td>56.295250</td>\n",
       "      <td>44.061637</td>\n",
       "      <td>2871</td>\n",
       "      <td>1</td>\n",
       "      <td>5</td>\n",
       "      <td>9</td>\n",
       "      <td>3</td>\n",
       "      <td>66.0</td>\n",
       "      <td>10.0</td>\n",
       "      <td>1</td>\n",
       "    </tr>\n",
       "    <tr>\n",
       "      <th>3</th>\n",
       "      <td>1850000</td>\n",
       "      <td>2018-03-01</td>\n",
       "      <td>11:24:52</td>\n",
       "      <td>44.996132</td>\n",
       "      <td>39.074783</td>\n",
       "      <td>2843</td>\n",
       "      <td>4</td>\n",
       "      <td>12</td>\n",
       "      <td>16</td>\n",
       "      <td>2</td>\n",
       "      <td>38.0</td>\n",
       "      <td>5.0</td>\n",
       "      <td>11</td>\n",
       "    </tr>\n",
       "    <tr>\n",
       "      <th>4</th>\n",
       "      <td>5450000</td>\n",
       "      <td>2018-03-01</td>\n",
       "      <td>17:42:43</td>\n",
       "      <td>55.918767</td>\n",
       "      <td>37.984642</td>\n",
       "      <td>81</td>\n",
       "      <td>3</td>\n",
       "      <td>13</td>\n",
       "      <td>14</td>\n",
       "      <td>2</td>\n",
       "      <td>60.0</td>\n",
       "      <td>10.0</td>\n",
       "      <td>1</td>\n",
       "    </tr>\n",
       "  </tbody>\n",
       "</table>\n",
       "</div>"
      ],
      "text/plain": [
       "     price        date      time  ...  area  kitchen_area  object_type\n",
       "0  6050000  2018-02-19  20:00:21  ...  82.6          10.8            1\n",
       "1  8650000  2018-02-27  12:04:54  ...  69.1          12.0            1\n",
       "2  4000000  2018-02-28  15:44:00  ...  66.0          10.0            1\n",
       "3  1850000  2018-03-01  11:24:52  ...  38.0           5.0           11\n",
       "4  5450000  2018-03-01  17:42:43  ...  60.0          10.0            1\n",
       "\n",
       "[5 rows x 13 columns]"
      ]
     },
     "execution_count": 233,
     "metadata": {
      "tags": []
     },
     "output_type": "execute_result"
    }
   ],
   "source": [
    "data.head()"
   ]
  },
  {
   "cell_type": "markdown",
   "metadata": {
    "id": "_1_q8Chyx0Fl"
   },
   "source": [
    "**По таблице статистики данных видно, что несколько признаков содержат экстремальные значения, что является выбросами. Это же подтверждают гистограммы, они искажены из-за наличия аномальных показателей.**"
   ]
  },
  {
   "cell_type": "code",
   "execution_count": 234,
   "metadata": {
    "colab": {
     "base_uri": "https://localhost:8080/",
     "height": 297
    },
    "id": "F3kh_I_NwJiL",
    "outputId": "e9fc4681-eac6-4b7a-bdee-b99e19fb672e"
   },
   "outputs": [
    {
     "data": {
      "text/html": [
       "<div>\n",
       "<style scoped>\n",
       "    .dataframe tbody tr th:only-of-type {\n",
       "        vertical-align: middle;\n",
       "    }\n",
       "\n",
       "    .dataframe tbody tr th {\n",
       "        vertical-align: top;\n",
       "    }\n",
       "\n",
       "    .dataframe thead th {\n",
       "        text-align: right;\n",
       "    }\n",
       "</style>\n",
       "<table border=\"1\" class=\"dataframe\">\n",
       "  <thead>\n",
       "    <tr style=\"text-align: right;\">\n",
       "      <th></th>\n",
       "      <th>price</th>\n",
       "      <th>geo_lat</th>\n",
       "      <th>geo_lon</th>\n",
       "      <th>region</th>\n",
       "      <th>building_type</th>\n",
       "      <th>level</th>\n",
       "      <th>levels</th>\n",
       "      <th>rooms</th>\n",
       "      <th>area</th>\n",
       "      <th>kitchen_area</th>\n",
       "      <th>object_type</th>\n",
       "    </tr>\n",
       "  </thead>\n",
       "  <tbody>\n",
       "    <tr>\n",
       "      <th>count</th>\n",
       "      <td>5.477006e+06</td>\n",
       "      <td>5.477006e+06</td>\n",
       "      <td>5.477006e+06</td>\n",
       "      <td>5.477006e+06</td>\n",
       "      <td>5.477006e+06</td>\n",
       "      <td>5.477006e+06</td>\n",
       "      <td>5.477006e+06</td>\n",
       "      <td>5.477006e+06</td>\n",
       "      <td>5.477006e+06</td>\n",
       "      <td>5.477006e+06</td>\n",
       "      <td>5.477006e+06</td>\n",
       "    </tr>\n",
       "    <tr>\n",
       "      <th>mean</th>\n",
       "      <td>4.422029e+06</td>\n",
       "      <td>5.403826e+01</td>\n",
       "      <td>5.324433e+01</td>\n",
       "      <td>4.307141e+03</td>\n",
       "      <td>1.948966e+00</td>\n",
       "      <td>6.214530e+00</td>\n",
       "      <td>1.139892e+01</td>\n",
       "      <td>1.726173e+00</td>\n",
       "      <td>5.391825e+01</td>\n",
       "      <td>1.062840e+01</td>\n",
       "      <td>3.945399e+00</td>\n",
       "    </tr>\n",
       "    <tr>\n",
       "      <th>std</th>\n",
       "      <td>2.150752e+07</td>\n",
       "      <td>4.622758e+00</td>\n",
       "      <td>2.074763e+01</td>\n",
       "      <td>3.308050e+03</td>\n",
       "      <td>1.038537e+00</td>\n",
       "      <td>4.957419e+00</td>\n",
       "      <td>6.535734e+00</td>\n",
       "      <td>1.082133e+00</td>\n",
       "      <td>3.335293e+01</td>\n",
       "      <td>9.792380e+00</td>\n",
       "      <td>4.558357e+00</td>\n",
       "    </tr>\n",
       "    <tr>\n",
       "      <th>min</th>\n",
       "      <td>-2.144967e+09</td>\n",
       "      <td>4.145906e+01</td>\n",
       "      <td>1.989020e+01</td>\n",
       "      <td>3.000000e+00</td>\n",
       "      <td>0.000000e+00</td>\n",
       "      <td>1.000000e+00</td>\n",
       "      <td>1.000000e+00</td>\n",
       "      <td>-2.000000e+00</td>\n",
       "      <td>7.000000e-02</td>\n",
       "      <td>1.000000e-02</td>\n",
       "      <td>1.000000e+00</td>\n",
       "    </tr>\n",
       "    <tr>\n",
       "      <th>25%</th>\n",
       "      <td>1.950000e+06</td>\n",
       "      <td>5.337768e+01</td>\n",
       "      <td>3.777790e+01</td>\n",
       "      <td>2.661000e+03</td>\n",
       "      <td>1.000000e+00</td>\n",
       "      <td>2.000000e+00</td>\n",
       "      <td>5.000000e+00</td>\n",
       "      <td>1.000000e+00</td>\n",
       "      <td>3.800000e+01</td>\n",
       "      <td>7.000000e+00</td>\n",
       "      <td>1.000000e+00</td>\n",
       "    </tr>\n",
       "    <tr>\n",
       "      <th>50%</th>\n",
       "      <td>2.990000e+06</td>\n",
       "      <td>5.517139e+01</td>\n",
       "      <td>4.306774e+01</td>\n",
       "      <td>2.922000e+03</td>\n",
       "      <td>2.000000e+00</td>\n",
       "      <td>5.000000e+00</td>\n",
       "      <td>1.000000e+01</td>\n",
       "      <td>2.000000e+00</td>\n",
       "      <td>4.802000e+01</td>\n",
       "      <td>9.700000e+00</td>\n",
       "      <td>1.000000e+00</td>\n",
       "    </tr>\n",
       "    <tr>\n",
       "      <th>75%</th>\n",
       "      <td>4.802000e+06</td>\n",
       "      <td>5.622613e+01</td>\n",
       "      <td>6.564895e+01</td>\n",
       "      <td>6.171000e+03</td>\n",
       "      <td>3.000000e+00</td>\n",
       "      <td>9.000000e+00</td>\n",
       "      <td>1.600000e+01</td>\n",
       "      <td>2.000000e+00</td>\n",
       "      <td>6.313000e+01</td>\n",
       "      <td>1.270000e+01</td>\n",
       "      <td>1.100000e+01</td>\n",
       "    </tr>\n",
       "    <tr>\n",
       "      <th>max</th>\n",
       "      <td>2.147484e+09</td>\n",
       "      <td>7.198040e+01</td>\n",
       "      <td>1.625361e+02</td>\n",
       "      <td>6.188800e+04</td>\n",
       "      <td>5.000000e+00</td>\n",
       "      <td>3.900000e+01</td>\n",
       "      <td>3.900000e+01</td>\n",
       "      <td>1.000000e+01</td>\n",
       "      <td>7.856000e+03</td>\n",
       "      <td>9.999000e+03</td>\n",
       "      <td>1.100000e+01</td>\n",
       "    </tr>\n",
       "  </tbody>\n",
       "</table>\n",
       "</div>"
      ],
      "text/plain": [
       "              price       geo_lat  ...  kitchen_area   object_type\n",
       "count  5.477006e+06  5.477006e+06  ...  5.477006e+06  5.477006e+06\n",
       "mean   4.422029e+06  5.403826e+01  ...  1.062840e+01  3.945399e+00\n",
       "std    2.150752e+07  4.622758e+00  ...  9.792380e+00  4.558357e+00\n",
       "min   -2.144967e+09  4.145906e+01  ...  1.000000e-02  1.000000e+00\n",
       "25%    1.950000e+06  5.337768e+01  ...  7.000000e+00  1.000000e+00\n",
       "50%    2.990000e+06  5.517139e+01  ...  9.700000e+00  1.000000e+00\n",
       "75%    4.802000e+06  5.622613e+01  ...  1.270000e+01  1.100000e+01\n",
       "max    2.147484e+09  7.198040e+01  ...  9.999000e+03  1.100000e+01\n",
       "\n",
       "[8 rows x 11 columns]"
      ]
     },
     "execution_count": 234,
     "metadata": {
      "tags": []
     },
     "output_type": "execute_result"
    }
   ],
   "source": [
    "data.describe()"
   ]
  },
  {
   "cell_type": "code",
   "execution_count": 235,
   "metadata": {
    "colab": {
     "base_uri": "https://localhost:8080/",
     "height": 584
    },
    "id": "c_KJnyBs1AP3",
    "outputId": "521e7fbd-f9c1-41a2-bc50-849948500738"
   },
   "outputs": [
    {
     "data": {
      "text/plain": [
       "array([[<matplotlib.axes._subplots.AxesSubplot object at 0x7f0e86235390>,\n",
       "        <matplotlib.axes._subplots.AxesSubplot object at 0x7f0e79bda650>],\n",
       "       [<matplotlib.axes._subplots.AxesSubplot object at 0x7f0e79c0ab10>,\n",
       "        <matplotlib.axes._subplots.AxesSubplot object at 0x7f0e79bc70d0>]],\n",
       "      dtype=object)"
      ]
     },
     "execution_count": 235,
     "metadata": {
      "tags": []
     },
     "output_type": "execute_result"
    },
    {
     "data": {
      "image/png": "[encoded data removed]",
      "text/plain": [
       "<Figure size 1440x576 with 4 Axes>"
      ]
     },
     "metadata": {
      "needs_background": "light",
      "tags": []
     },
     "output_type": "display_data"
    }
   ],
   "source": [
    "cols = ['price', 'area', 'kitchen_area']\n",
    "data[cols].hist(figsize=(20,8))"
   ]
  },
  {
   "cell_type": "markdown",
   "metadata": {
    "id": "exBhvIXy74IL"
   },
   "source": [
    "**Удаляем признак время, поскольку в констексте задачи он несущественный.**"
   ]
  },
  {
   "cell_type": "code",
   "execution_count": 236,
   "metadata": {
    "id": "oZwnDvomXeHr"
   },
   "outputs": [],
   "source": [
    "data = data.drop(['time'], axis=1)"
   ]
  },
  {
   "cell_type": "markdown",
   "metadata": {
    "id": "kBUFAl9WdnRx"
   },
   "source": [
    "1.   **Очищаем данные от дубликатов, пустых значений.**\n",
    "2.   **Удаляем отрицательные значения цен.**\n",
    "2.   **Воспользуемся интеквартильным размахом для определения выбросов и удалим их из выборки. Чтобы не очень агресивно удалять данные, воспользуемся 5-кратным интеквартильными размахом.**\n",
    "3.   **Есть значения по количеству комнат, равные -2, их также удаляем, так как это не соответствует условиям задачи.** "
   ]
  },
  {
   "cell_type": "code",
   "execution_count": 237,
   "metadata": {
    "id": "MCG-WdUhH7Pm"
   },
   "outputs": [],
   "source": [
    "data = data.drop_duplicates()\n",
    "data = data.dropna()"
   ]
  },
  {
   "cell_type": "code",
   "execution_count": 238,
   "metadata": {
    "id": "NGf-zLksIpUh"
   },
   "outputs": [],
   "source": [
    "data = data[data.price>0]"
   ]
  },
  {
   "cell_type": "code",
   "execution_count": 239,
   "metadata": {
    "id": "qPYiR6CNNjqe"
   },
   "outputs": [],
   "source": [
    "data = data[data.rooms != -2]\n",
    "data = data[data.area > 1]\n",
    "data = data[data.kitchen_area > 1]"
   ]
  },
  {
   "cell_type": "code",
   "execution_count": 240,
   "metadata": {
    "id": "X5N-oAYMH5nm"
   },
   "outputs": [],
   "source": [
    "first_quartile = data['area'].describe()['25%']\n",
    "third_quartile = data['area'].describe()['75%']\n",
    "\n",
    "iqr = third_quartile - first_quartile\n",
    "\n",
    "data = data[(data['area'] > (first_quartile - 3 * iqr)) &\n",
    "            (data['area'] < (third_quartile + 3 * iqr))]"
   ]
  },
  {
   "cell_type": "code",
   "execution_count": 241,
   "metadata": {
    "id": "r37CAIIhIDUr"
   },
   "outputs": [],
   "source": [
    "first_quartile = data['price'].describe()['25%']\n",
    "third_quartile = data['price'].describe()['75%']\n",
    "\n",
    "iqr = third_quartile - first_quartile\n",
    "\n",
    "data = data[(data['price'] > (first_quartile - 3 * iqr)) &\n",
    "            (data['price'] < (third_quartile + 3 * iqr))]"
   ]
  },
  {
   "cell_type": "code",
   "execution_count": 242,
   "metadata": {
    "id": "VkBTOhpgIJlF"
   },
   "outputs": [],
   "source": [
    "first_quartile = data['kitchen_area'].describe()['25%']\n",
    "third_quartile = data['kitchen_area'].describe()['75%']\n",
    "\n",
    "iqr = third_quartile - first_quartile\n",
    "\n",
    "data = data[(data['kitchen_area'] > (first_quartile - 3 * iqr)) &\n",
    "            (data['kitchen_area'] < (third_quartile + 3 * iqr))]"
   ]
  },
  {
   "cell_type": "markdown",
   "metadata": {
    "id": "a2woawsTKkho"
   },
   "source": [
    "**Снова построим гистрограммы признаков после их очистки, видим, что графики выглядят более похзже на нормальное распределение.**"
   ]
  },
  {
   "cell_type": "code",
   "execution_count": 243,
   "metadata": {
    "colab": {
     "base_uri": "https://localhost:8080/",
     "height": 584
    },
    "id": "np8HeyKOKf5e",
    "outputId": "d2da4ff2-d2bf-4f24-832e-9c61baa0a278"
   },
   "outputs": [
    {
     "data": {
      "text/plain": [
       "array([[<matplotlib.axes._subplots.AxesSubplot object at 0x7f0e79aaa1d0>,\n",
       "        <matplotlib.axes._subplots.AxesSubplot object at 0x7f0e79ad1450>],\n",
       "       [<matplotlib.axes._subplots.AxesSubplot object at 0x7f0e79a83ad0>,\n",
       "        <matplotlib.axes._subplots.AxesSubplot object at 0x7f0e79a46190>]],\n",
       "      dtype=object)"
      ]
     },
     "execution_count": 243,
     "metadata": {
      "tags": []
     },
     "output_type": "execute_result"
    },
    {
     "data": {
      "image/png": "[encoded data removed]",
      "text/plain": [
       "<Figure size 1440x576 with 4 Axes>"
      ]
     },
     "metadata": {
      "needs_background": "light",
      "tags": []
     },
     "output_type": "display_data"
    }
   ],
   "source": [
    "data[cols].hist(figsize=(20,8))"
   ]
  },
  {
   "cell_type": "markdown",
   "metadata": {
    "id": "FPBgDJoWevHp"
   },
   "source": [
    "**Дополнительно проверим квнтильное распределение минимальных значений площади и цены.**"
   ]
  },
  {
   "cell_type": "code",
   "execution_count": 244,
   "metadata": {
    "colab": {
     "base_uri": "https://localhost:8080/"
    },
    "id": "dSeVSVaye_id",
    "outputId": "73920845-142a-4cad-c530-a3f0de78cc1e"
   },
   "outputs": [
    {
     "data": {
      "text/plain": [
       "0.000          1.0\n",
       "0.001     200000.0\n",
       "0.002     380000.0\n",
       "0.003     450000.0\n",
       "0.004     500000.0\n",
       "           ...    \n",
       "0.095    1378000.0\n",
       "0.096    1380000.0\n",
       "0.097    1390000.0\n",
       "0.098    1400000.0\n",
       "0.099    1400000.0\n",
       "Name: price, Length: 100, dtype: float64"
      ]
     },
     "execution_count": 244,
     "metadata": {
      "tags": []
     },
     "output_type": "execute_result"
    }
   ],
   "source": [
    "data.price.quantile(np.arange(0, 0.1, .001))"
   ]
  },
  {
   "cell_type": "code",
   "execution_count": 245,
   "metadata": {
    "colab": {
     "base_uri": "https://localhost:8080/"
    },
    "id": "CI900jZgfBoR",
    "outputId": "0a19c0fa-8736-4c4e-fc77-bfa88cf3f50e"
   },
   "outputs": [
    {
     "data": {
      "text/plain": [
       "0.000     1.1\n",
       "0.001    10.0\n",
       "0.002    13.0\n",
       "0.003    14.8\n",
       "0.004    16.0\n",
       "         ... \n",
       "0.095    31.0\n",
       "0.096    31.1\n",
       "0.097    31.3\n",
       "0.098    31.4\n",
       "0.099    31.5\n",
       "Name: area, Length: 100, dtype: float64"
      ]
     },
     "execution_count": 245,
     "metadata": {
      "tags": []
     },
     "output_type": "execute_result"
    }
   ],
   "source": [
    "data.area.quantile(np.arange(0, 0.1, .001))"
   ]
  },
  {
   "cell_type": "code",
   "execution_count": 246,
   "metadata": {
    "id": "K1LsJkgKdtki"
   },
   "outputs": [],
   "source": [
    "data = data[data.area>=10]"
   ]
  },
  {
   "cell_type": "code",
   "execution_count": 247,
   "metadata": {
    "id": "Kra4sP1tjdkJ"
   },
   "outputs": [],
   "source": [
    "data = data[data.price>=200000]"
   ]
  },
  {
   "cell_type": "markdown",
   "metadata": {
    "id": "lCkEuZzQ8Nnu"
   },
   "source": [
    "**Преобразуем даты в целое число дней с момента начала данных, для того чтобы привести признаковые описания к одному виду**\n",
    "\n"
   ]
  },
  {
   "cell_type": "code",
   "execution_count": 248,
   "metadata": {
    "id": "mDaHSPkXlQ9T"
   },
   "outputs": [],
   "source": [
    "data.date = pd.to_datetime(data.date)"
   ]
  },
  {
   "cell_type": "code",
   "execution_count": 249,
   "metadata": {
    "id": "ZuFQEFMPRUoj"
   },
   "outputs": [],
   "source": [
    "data['day_delta'] = (data.date - data.date.min()).dt.days"
   ]
  },
  {
   "cell_type": "code",
   "execution_count": 250,
   "metadata": {
    "id": "7FMtCyQ0SF66"
   },
   "outputs": [],
   "source": [
    "data = data.drop('date', axis=1)"
   ]
  },
  {
   "cell_type": "code",
   "execution_count": 251,
   "metadata": {
    "colab": {
     "base_uri": "https://localhost:8080/",
     "height": 419
    },
    "id": "Ej3OHrJN-dSt",
    "outputId": "417ca881-09ea-49ff-c183-986c7b5a321f"
   },
   "outputs": [
    {
     "data": {
      "text/html": [
       "<div>\n",
       "<style scoped>\n",
       "    .dataframe tbody tr th:only-of-type {\n",
       "        vertical-align: middle;\n",
       "    }\n",
       "\n",
       "    .dataframe tbody tr th {\n",
       "        vertical-align: top;\n",
       "    }\n",
       "\n",
       "    .dataframe thead th {\n",
       "        text-align: right;\n",
       "    }\n",
       "</style>\n",
       "<table border=\"1\" class=\"dataframe\">\n",
       "  <thead>\n",
       "    <tr style=\"text-align: right;\">\n",
       "      <th></th>\n",
       "      <th>price</th>\n",
       "      <th>geo_lat</th>\n",
       "      <th>geo_lon</th>\n",
       "      <th>region</th>\n",
       "      <th>building_type</th>\n",
       "      <th>level</th>\n",
       "      <th>levels</th>\n",
       "      <th>rooms</th>\n",
       "      <th>area</th>\n",
       "      <th>kitchen_area</th>\n",
       "      <th>object_type</th>\n",
       "      <th>day_delta</th>\n",
       "    </tr>\n",
       "  </thead>\n",
       "  <tbody>\n",
       "    <tr>\n",
       "      <th>0</th>\n",
       "      <td>6050000</td>\n",
       "      <td>59.805808</td>\n",
       "      <td>30.376141</td>\n",
       "      <td>2661</td>\n",
       "      <td>1</td>\n",
       "      <td>8</td>\n",
       "      <td>10</td>\n",
       "      <td>3</td>\n",
       "      <td>82.6</td>\n",
       "      <td>10.8</td>\n",
       "      <td>1</td>\n",
       "      <td>0</td>\n",
       "    </tr>\n",
       "    <tr>\n",
       "      <th>1</th>\n",
       "      <td>8650000</td>\n",
       "      <td>55.683807</td>\n",
       "      <td>37.297405</td>\n",
       "      <td>81</td>\n",
       "      <td>3</td>\n",
       "      <td>5</td>\n",
       "      <td>24</td>\n",
       "      <td>2</td>\n",
       "      <td>69.1</td>\n",
       "      <td>12.0</td>\n",
       "      <td>1</td>\n",
       "      <td>8</td>\n",
       "    </tr>\n",
       "    <tr>\n",
       "      <th>2</th>\n",
       "      <td>4000000</td>\n",
       "      <td>56.295250</td>\n",
       "      <td>44.061637</td>\n",
       "      <td>2871</td>\n",
       "      <td>1</td>\n",
       "      <td>5</td>\n",
       "      <td>9</td>\n",
       "      <td>3</td>\n",
       "      <td>66.0</td>\n",
       "      <td>10.0</td>\n",
       "      <td>1</td>\n",
       "      <td>9</td>\n",
       "    </tr>\n",
       "    <tr>\n",
       "      <th>3</th>\n",
       "      <td>1850000</td>\n",
       "      <td>44.996132</td>\n",
       "      <td>39.074783</td>\n",
       "      <td>2843</td>\n",
       "      <td>4</td>\n",
       "      <td>12</td>\n",
       "      <td>16</td>\n",
       "      <td>2</td>\n",
       "      <td>38.0</td>\n",
       "      <td>5.0</td>\n",
       "      <td>11</td>\n",
       "      <td>10</td>\n",
       "    </tr>\n",
       "    <tr>\n",
       "      <th>4</th>\n",
       "      <td>5450000</td>\n",
       "      <td>55.918767</td>\n",
       "      <td>37.984642</td>\n",
       "      <td>81</td>\n",
       "      <td>3</td>\n",
       "      <td>13</td>\n",
       "      <td>14</td>\n",
       "      <td>2</td>\n",
       "      <td>60.0</td>\n",
       "      <td>10.0</td>\n",
       "      <td>1</td>\n",
       "      <td>10</td>\n",
       "    </tr>\n",
       "    <tr>\n",
       "      <th>...</th>\n",
       "      <td>...</td>\n",
       "      <td>...</td>\n",
       "      <td>...</td>\n",
       "      <td>...</td>\n",
       "      <td>...</td>\n",
       "      <td>...</td>\n",
       "      <td>...</td>\n",
       "      <td>...</td>\n",
       "      <td>...</td>\n",
       "      <td>...</td>\n",
       "      <td>...</td>\n",
       "      <td>...</td>\n",
       "    </tr>\n",
       "    <tr>\n",
       "      <th>5476999</th>\n",
       "      <td>12850000</td>\n",
       "      <td>55.701280</td>\n",
       "      <td>37.642654</td>\n",
       "      <td>3</td>\n",
       "      <td>2</td>\n",
       "      <td>12</td>\n",
       "      <td>24</td>\n",
       "      <td>1</td>\n",
       "      <td>41.0</td>\n",
       "      <td>9.0</td>\n",
       "      <td>1</td>\n",
       "      <td>1167</td>\n",
       "    </tr>\n",
       "    <tr>\n",
       "      <th>5477002</th>\n",
       "      <td>12503160</td>\n",
       "      <td>55.841415</td>\n",
       "      <td>37.489624</td>\n",
       "      <td>3</td>\n",
       "      <td>2</td>\n",
       "      <td>17</td>\n",
       "      <td>32</td>\n",
       "      <td>2</td>\n",
       "      <td>45.9</td>\n",
       "      <td>6.6</td>\n",
       "      <td>11</td>\n",
       "      <td>1167</td>\n",
       "    </tr>\n",
       "    <tr>\n",
       "      <th>5477003</th>\n",
       "      <td>8800000</td>\n",
       "      <td>56.283909</td>\n",
       "      <td>44.075408</td>\n",
       "      <td>2871</td>\n",
       "      <td>2</td>\n",
       "      <td>4</td>\n",
       "      <td>17</td>\n",
       "      <td>3</td>\n",
       "      <td>86.5</td>\n",
       "      <td>11.8</td>\n",
       "      <td>1</td>\n",
       "      <td>1167</td>\n",
       "    </tr>\n",
       "    <tr>\n",
       "      <th>5477004</th>\n",
       "      <td>11831910</td>\n",
       "      <td>55.804736</td>\n",
       "      <td>37.750898</td>\n",
       "      <td>3</td>\n",
       "      <td>1</td>\n",
       "      <td>8</td>\n",
       "      <td>33</td>\n",
       "      <td>2</td>\n",
       "      <td>52.1</td>\n",
       "      <td>18.9</td>\n",
       "      <td>11</td>\n",
       "      <td>1167</td>\n",
       "    </tr>\n",
       "    <tr>\n",
       "      <th>5477005</th>\n",
       "      <td>13316200</td>\n",
       "      <td>55.860240</td>\n",
       "      <td>37.540356</td>\n",
       "      <td>3</td>\n",
       "      <td>2</td>\n",
       "      <td>10</td>\n",
       "      <td>23</td>\n",
       "      <td>2</td>\n",
       "      <td>55.6</td>\n",
       "      <td>20.8</td>\n",
       "      <td>11</td>\n",
       "      <td>1167</td>\n",
       "    </tr>\n",
       "  </tbody>\n",
       "</table>\n",
       "<p>4948121 rows × 12 columns</p>\n",
       "</div>"
      ],
      "text/plain": [
       "            price    geo_lat    geo_lon  ...  kitchen_area  object_type  day_delta\n",
       "0         6050000  59.805808  30.376141  ...          10.8            1          0\n",
       "1         8650000  55.683807  37.297405  ...          12.0            1          8\n",
       "2         4000000  56.295250  44.061637  ...          10.0            1          9\n",
       "3         1850000  44.996132  39.074783  ...           5.0           11         10\n",
       "4         5450000  55.918767  37.984642  ...          10.0            1         10\n",
       "...           ...        ...        ...  ...           ...          ...        ...\n",
       "5476999  12850000  55.701280  37.642654  ...           9.0            1       1167\n",
       "5477002  12503160  55.841415  37.489624  ...           6.6           11       1167\n",
       "5477003   8800000  56.283909  44.075408  ...          11.8            1       1167\n",
       "5477004  11831910  55.804736  37.750898  ...          18.9           11       1167\n",
       "5477005  13316200  55.860240  37.540356  ...          20.8           11       1167\n",
       "\n",
       "[4948121 rows x 12 columns]"
      ]
     },
     "execution_count": 251,
     "metadata": {
      "tags": []
     },
     "output_type": "execute_result"
    }
   ],
   "source": [
    "data"
   ]
  },
  {
   "cell_type": "markdown",
   "metadata": {
    "id": "7BQgoIfY8X8k"
   },
   "source": [
    "**Делим выборку на обучающую и тестовую с учетом временного ряда, \n",
    "в соотношении 70/30.**"
   ]
  },
  {
   "cell_type": "code",
   "execution_count": 252,
   "metadata": {
    "id": "Mr8dXGnwvhiX"
   },
   "outputs": [],
   "source": [
    "Y = data.price"
   ]
  },
  {
   "cell_type": "code",
   "execution_count": 253,
   "metadata": {
    "id": "c6EeLyhLvjJ7"
   },
   "outputs": [],
   "source": [
    "X = data.drop('price', axis=1)"
   ]
  },
  {
   "cell_type": "code",
   "execution_count": 254,
   "metadata": {
    "id": "oLjrhij8vnvn"
   },
   "outputs": [],
   "source": [
    "x_train = X[:int(len(Y)*0.7)]\n",
    "x_test = X[int(len(Y)*0.7):]\n",
    "y_train = Y[:int(len(Y)*0.7)]\n",
    "y_test = Y[int(len(Y)*0.7):]"
   ]
  },
  {
   "cell_type": "markdown",
   "metadata": {
    "id": "8C8ttaDk8kCh"
   },
   "source": [
    "**Проведем нормализацию данных для того,чтобы исключить дисбаланс между значениями признаков. Это положительно отразится на устойчивости работы модели.**"
   ]
  },
  {
   "cell_type": "code",
   "execution_count": 255,
   "metadata": {
    "id": "f0LNITe0-Ne9"
   },
   "outputs": [],
   "source": [
    "from sklearn import preprocessing\n",
    "\n",
    "scaler = preprocessing.MinMaxScaler() \n",
    "scaler.fit(x_train, y_train)\n",
    "scaled_train = scaler.transform(x_train)\n",
    "scaled_test = scaler.transform(x_test)"
   ]
  },
  {
   "cell_type": "markdown",
   "metadata": {
    "id": "fZ4mjvcr8n-c"
   },
   "source": [
    "**Построим baseline модель, чтобы в дальнейшем анализировать прирост качества в зависимости с усложнением моделей. В качестве метрики используем среднее абсолютное отклонение (mean absolute error (MAE)). Метрика довольно легко рассчитывается, и она наглядна.**"
   ]
  },
  {
   "cell_type": "code",
   "execution_count": 256,
   "metadata": {
    "colab": {
     "base_uri": "https://localhost:8080/"
    },
    "id": "QWiHSunp0-Z3",
    "outputId": "50f00fcb-ea79-4977-e407-08e4689e5d33"
   },
   "outputs": [
    {
     "data": {
      "text/plain": [
       "LinearRegression(copy_X=True, fit_intercept=True, n_jobs=None, normalize=False)"
      ]
     },
     "execution_count": 256,
     "metadata": {
      "tags": []
     },
     "output_type": "execute_result"
    }
   ],
   "source": [
    "from sklearn.linear_model import LinearRegression\n",
    "from sklearn.metrics import mean_absolute_error\n",
    "\n",
    "model = LinearRegression()\n",
    "model.fit(scaled_train, y_train)"
   ]
  },
  {
   "cell_type": "code",
   "execution_count": 257,
   "metadata": {
    "colab": {
     "base_uri": "https://localhost:8080/"
    },
    "id": "VaSDhcIW1IaN",
    "outputId": "48516343-98b9-4b05-9c07-401722afa4c3"
   },
   "outputs": [
    {
     "data": {
      "text/plain": [
       "1402383.3743572324"
      ]
     },
     "execution_count": 257,
     "metadata": {
      "tags": []
     },
     "output_type": "execute_result"
    }
   ],
   "source": [
    "mean_absolute_error(y_test, model.predict(scaled_test))"
   ]
  },
  {
   "cell_type": "markdown",
   "metadata": {
    "id": "l0ELJzxm87t8"
   },
   "source": [
    "**Дополнительно введем метрику MAPE.**"
   ]
  },
  {
   "cell_type": "code",
   "execution_count": 258,
   "metadata": {
    "id": "CGB8zCCE83h8"
   },
   "outputs": [],
   "source": [
    "def mape(actual, pred): \n",
    "    actual, pred = np.array(actual), np.array(pred)\n",
    "    return np.mean(np.abs((actual - pred) / actual)) * 100"
   ]
  },
  {
   "cell_type": "code",
   "execution_count": 259,
   "metadata": {
    "colab": {
     "base_uri": "https://localhost:8080/"
    },
    "id": "PAWsI167w2oe",
    "outputId": "507062e6-0790-4298-c215-80ae486680b7"
   },
   "outputs": [
    {
     "data": {
      "text/plain": [
       "41.45172009789487"
      ]
     },
     "execution_count": 259,
     "metadata": {
      "tags": []
     },
     "output_type": "execute_result"
    }
   ],
   "source": [
    "mape(y_test, model.predict(scaled_test))"
   ]
  },
  {
   "cell_type": "markdown",
   "metadata": {
    "id": "Z2F4ipyc9Fot"
   },
   "source": [
    "**Проверим как изменится качество при использовании более сложной модели**. "
   ]
  },
  {
   "cell_type": "code",
   "execution_count": 260,
   "metadata": {
    "id": "ToL0HH_IrIAy"
   },
   "outputs": [],
   "source": [
    "from lightgbm import LGBMRegressor"
   ]
  },
  {
   "cell_type": "code",
   "execution_count": 261,
   "metadata": {
    "colab": {
     "base_uri": "https://localhost:8080/"
    },
    "id": "S74C-QBa82uQ",
    "outputId": "e1e87e50-ee11-47b4-a83f-6a52e0fe35e2"
   },
   "outputs": [
    {
     "data": {
      "text/plain": [
       "LGBMRegressor(boosting_type='gbdt', class_weight=None, colsample_bytree=1.0,\n",
       "              importance_type='split', learning_rate=0.1, max_depth=-1,\n",
       "              min_child_samples=20, min_child_weight=0.001, min_split_gain=0.0,\n",
       "              n_estimators=100, n_jobs=-1, num_leaves=31, objective=None,\n",
       "              random_state=None, reg_alpha=0.0, reg_lambda=0.0, silent=True,\n",
       "              subsample=1.0, subsample_for_bin=200000, subsample_freq=0)"
      ]
     },
     "execution_count": 261,
     "metadata": {
      "tags": []
     },
     "output_type": "execute_result"
    }
   ],
   "source": [
    "lgb = LGBMRegressor()\n",
    "lgb.fit(scaled_train, y_train)"
   ]
  },
  {
   "cell_type": "code",
   "execution_count": 262,
   "metadata": {
    "colab": {
     "base_uri": "https://localhost:8080/"
    },
    "id": "aKtwKVWL9AV5",
    "outputId": "cd9ffad9-cb8f-4927-a2d0-bec0a041f0b7"
   },
   "outputs": [
    {
     "data": {
      "text/plain": [
       "792036.0967957238"
      ]
     },
     "execution_count": 262,
     "metadata": {
      "tags": []
     },
     "output_type": "execute_result"
    }
   ],
   "source": [
    "mean_absolute_error(y_test, lgb.predict(scaled_test))"
   ]
  },
  {
   "cell_type": "code",
   "execution_count": 263,
   "metadata": {
    "colab": {
     "base_uri": "https://localhost:8080/"
    },
    "id": "8qfxeZ6lxKno",
    "outputId": "7e7572ed-9604-461e-b520-fa4db57007bc"
   },
   "outputs": [
    {
     "data": {
      "text/plain": [
       "20.564505953691903"
      ]
     },
     "execution_count": 263,
     "metadata": {
      "tags": []
     },
     "output_type": "execute_result"
    }
   ],
   "source": [
    "mape(y_test, lgb.predict(scaled_test))"
   ]
  },
  {
   "cell_type": "code",
   "execution_count": 56,
   "metadata": {
    "colab": {
     "base_uri": "https://localhost:8080/"
    },
    "id": "2-x1T_03t3te",
    "outputId": "25b0dd1b-b8ca-47e3-ed42-971132af8d6d"
   },
   "outputs": [
    {
     "data": {
      "text/plain": [
       "count    1.490578e+06\n",
       "mean     4.229630e+06\n",
       "std      2.624019e+06\n",
       "min      1.000000e+00\n",
       "25%      2.380000e+06\n",
       "50%      3.500000e+06\n",
       "75%      5.391693e+06\n",
       "max      1.380000e+07\n",
       "Name: price, dtype: float64"
      ]
     },
     "execution_count": 56,
     "metadata": {
      "tags": []
     },
     "output_type": "execute_result"
    }
   ],
   "source": [
    "y_test.describe()"
   ]
  },
  {
   "cell_type": "code",
   "execution_count": null,
   "metadata": {
    "id": "4X5_7_WeZMII"
   },
   "outputs": [],
   "source": []
  }
 ],
 "metadata": {
  "colab": {
   "name": "Flat_prices.ipynb",
   "provenance": []
  },
  "kernelspec": {
   "display_name": "Python 3",
   "language": "python",
   "name": "python3"
  },
  "language_info": {
   "codemirror_mode": {
    "name": "ipython",
    "version": 3
   },
   "file_extension": ".py",
   "mimetype": "text/x-python",
   "name": "python",
   "nbconvert_exporter": "python",
   "pygments_lexer": "ipython3",
   "version": "3.8.5"
  }
 },
 "nbformat": 4,
 "nbformat_minor": 1
}
